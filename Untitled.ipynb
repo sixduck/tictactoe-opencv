{
 "cells": [
  {
   "cell_type": "code",
   "execution_count": 65,
   "id": "fdcaf426",
   "metadata": {
    "scrolled": true
   },
   "outputs": [
    {
     "name": "stdout",
     "output_type": "stream",
     "text": [
      "<Arduino is ready>\n",
      "done\n",
      "This just in ... 1,2,3,1,0,1\n",
      "X: 1.00Y: 2.00Z: 3.00bool_move: 1.00bool_open: 0.00delay_ms: 0.00move_type: 0.00\n",
      "xong\n"
     ]
    }
   ],
   "source": [
    "import serial\n",
    "\n",
    "ser = serial.Serial('COM7', baudrate = 9600, timeout=1)\n",
    "input1 = []\n",
    "input1 = (1,2,3,1,0,1)\n",
    "# print(\"<\" + str(input1[0]) + \",\" + str(input1[1]) + \",\" + str(input1[2]) + \",\" + str(input1[3])+ \",\"+ str(input1[4])+ \n",
    "#       \",\"+ str(input1[5])+ \">\")\n",
    "def decodestr(inputstr):\n",
    "    inputstr = inputstr.decode(\"utf-8\")\n",
    "    inputstr = inputstr.replace(\"\\r\",\"\")\n",
    "    inputstr = inputstr.replace(\"\\n\",\"\")\n",
    "    inputstr = inputstr.replace(\"\\b\",\"\")\n",
    "    return inputstr\n",
    "while 1:\n",
    "    arduinoData = decodestr(ser.readline())\n",
    "    if arduinoData != \"\":\n",
    "        print(arduinoData)\n",
    "    if arduinoData == \"done\":   \n",
    "        try:\n",
    "            input2 = \"<\" + str(input1[0]) + \",\" + str(input1[1]) + \",\" + str(input1[2]) + \",\" + str(input1[3])+ \",\"+ str(input1[4]) + \",\"+ str(input1[5])+ \">\"\n",
    "            input2 = input2.encode(\"utf-8\")\n",
    "            ser.write(input2)\n",
    "            while True:    \n",
    "                out = decodestr(ser.readline())\n",
    "                print(out)\n",
    "                if out == \"xong\":\n",
    "                    break\n",
    "            break\n",
    "        except:\n",
    "            break\n",
    "ser.close()"
   ]
  },
  {
   "cell_type": "code",
   "execution_count": 61,
   "id": "6968167f",
   "metadata": {},
   "outputs": [],
   "source": [
    "ser.close()"
   ]
  },
  {
   "cell_type": "code",
   "execution_count": 4,
   "id": "c3f6d5d4",
   "metadata": {},
   "outputs": [],
   "source": [
    "import cv2\n",
    "import time\n",
    "\n",
    "anh = cv2.imread('opencv_frame_0.png')\n",
    "cv2.imshow('anh',anh)\n",
    "cv2.waitKey(0)\n",
    "time.sleep(10)\n",
    "cv2.destroyAllWindows()"
   ]
  },
  {
   "cell_type": "code",
   "execution_count": 4,
   "id": "c6418d4b",
   "metadata": {},
   "outputs": [],
   "source": [
    "from tkinter import *\n",
    "\n",
    "#create a widget\n",
    "root = Tk()\n",
    "\n",
    "#text\n",
    "mylabel = Label(root, text='hello world')\n",
    "mylabel1 = Label(root, text='ten tao la')\n",
    "#push into widge and loop\n",
    "mylabel.pack()\n",
    "root.mainloop()"
   ]
  },
  {
   "cell_type": "code",
   "execution_count": 9,
   "id": "f623eb98",
   "metadata": {},
   "outputs": [],
   "source": [
    "from tkinter import *\n",
    "\n",
    "#create a widget\n",
    "root = Tk()\n",
    "\n",
    "#text\n",
    "mylabel = Label(root, text='hello world').grid(row = 0, column = 0)\n",
    "mylabel1 = Label(root, text='ten tao la').grid(row = 1, column = 3)\n",
    "#push into widge and loop\n",
    "# mylabel.grid(row = 0, column = 0)\n",
    "# mylabel1.grid(row = 1, column = 3)\n",
    "root.mainloop()"
   ]
  },
  {
   "cell_type": "code",
   "execution_count": 20,
   "id": "4a3c220b",
   "metadata": {},
   "outputs": [],
   "source": [
    "#create a button\n",
    "from tkinter import *\n",
    "\n",
    "root = Tk()\n",
    "def myClick():\n",
    "    myLabel = Label(root,text='da nhan').pack()\n",
    "    \n",
    "    \n",
    "# myBtn = Button(root, text='click me',state=DISABLED).pack()\n",
    "myBtn = Button(root, text='click me', padx=100,pady=100, command = myClick, fg = \"red\", bg = 'blue').pack() #no () in commnand\n",
    "\n",
    "root.mainloop()"
   ]
  },
  {
   "cell_type": "code",
   "execution_count": null,
   "id": "a239be0a",
   "metadata": {},
   "outputs": [],
   "source": [
    "#input box\n",
    "from tkinter import *\n",
    "\n",
    "root = Tk()\n",
    "\n",
    "\n",
    "\n",
    "\n",
    "root.mainloop()"
   ]
  },
  {
   "cell_type": "code",
   "execution_count": 3,
   "id": "3a2e91e0",
   "metadata": {},
   "outputs": [],
   "source": [
    "import cv2\n",
    "import numpy as np\n",
    "import imutils\n",
    "image = cv2.imread('20210729_150503.jpg')\n",
    "\n",
    "gray = cv2.cvtColor(image, cv2.COLOR_BGR2GRAY)\n",
    "gray = np.float32(gray)\n",
    "dst = cv2.cornerHarris(gray,2,3,0.04)\n",
    "dst = cv2.dilate(dst, None)\n",
    "image[dst >0.01*dst.max()] = [0,0,255]\n",
    "# blur = cv2.GaussianBlur(gray, (5,5),0)\n",
    "# thresh = cv2.threshold(blur, 45, 255, cv2.THRESH_BINARY)[1]\n",
    "# thresh = cv2.erode(thresh, None, iterations=2)\n",
    "# thresh = cv2.dilate(thresh, None, iterations=2)\n",
    "# cnts = cv2.findContours(thresh, cv2.RETR_EXTERNAL,cv2.CHAIN_APPROX_SIMPLE)\n",
    "# for cnt in cnts:\n",
    "#     (x,y,w,h)= cv2.boundingRect(cnt)\n",
    "#     crop = crop[y:y+h,x:x+w]\n",
    "\n",
    "\n",
    "cv2.namedWindow('image',cv2.WND_PROP_FULLSCREEN)\n",
    "cv2.setWindowProperty('image',cv2.WND_PROP_FULLSCREEN,cv2.WINDOW_FULLSCREEN)\n",
    "cv2.imshow('image',image)\n",
    "cv2.waitKey(0)\n",
    "cv2.destroyAllWindows()"
   ]
  },
  {
   "cell_type": "code",
   "execution_count": 16,
   "id": "5be23af6",
   "metadata": {},
   "outputs": [],
   "source": [
    "import cv2\n",
    "import numpy as np\n",
    "import imutils\n",
    "image = cv2.imread('20210729_150503.jpg')\n",
    "\n",
    "gray = cv2.cvtColor(image, cv2.COLOR_BGR2GRAY)\n",
    "corners = cv2.goodFeaturesToTrack(gray,100,0.5,10)\n",
    "corners = np.int0(corners)\n",
    "\n",
    "for corner in corners:\n",
    "    x,y = corner.ravel()\n",
    "    cv2.circle(image,(x,y),5,[255,0,0],-1)\n",
    "\n",
    "cv2.namedWindow('image',cv2.WND_PROP_FULLSCREEN)\n",
    "cv2.setWindowProperty('image',cv2.WND_PROP_FULLSCREEN,cv2.WINDOW_FULLSCREEN)\n",
    "cv2.imshow('image',gray)\n",
    "cv2.waitKey(0)\n",
    "cv2.destroyAllWindows()"
   ]
  },
  {
   "cell_type": "code",
   "execution_count": null,
   "id": "2bbe0633",
   "metadata": {},
   "outputs": [],
   "source": [
    "import cv2\n",
    "import numpy as np\n",
    "import imutils\n",
    "image = cv2.imread('20210729_150503.jpg')\n",
    "witdth,height,shae = image.shape\n",
    "imgblank = np.zeros((witdth,height,3),np.uint8)\n",
    "\n",
    "imgGray = cv2.cvtColor(image, cv2.COLOR_BGR2GRAY)  # CONVERT IMAGE TO GRAY SCALE\n",
    "imgBlur = cv2.GaussianBlur(imgGray, (5, 5), 1)  # ADD GAUSSIAN BLUR\n",
    "imgThreshold = cv2.adaptiveThreshold(imgBlur, 255, 1, 1, 11, 2)  # APPLY ADAPTIVE THRESHOLD\n",
    "contours, hierarchy = cv2.findContours(imgThreshold, cv2.RETR_EXTERNAL, cv2.CHAIN_APPROX_SIMPLE) # FIND ALL CONTOURS\n",
    "cv2.drawContours(image, contours, -1, (0, 255, 0), 3) # DRAW ALL DETECTED CONTOURS\n",
    "imageArray = ([image,imgblank,imgblank,imgblank],[imgblank,imgblank,imgblank,imgblank])\n",
    "stackedImage = stackImages(imageArray, 1)\n",
    "\n",
    "cv2.namedWindow('image',cv2.WND_PROP_FULLSCREEN)\n",
    "cv2.setWindowProperty('image',cv2.WND_PROP_FULLSCREEN,cv2.WINDOW_FULLSCREEN)\n",
    "cv2.imshow('image',stackedImage)\n",
    "cv2.waitKey(0)\n",
    "cv2.destroyAllWindows()"
   ]
  },
  {
   "cell_type": "code",
   "execution_count": 23,
   "id": "6d847cd7",
   "metadata": {},
   "outputs": [],
   "source": [
    "def stackImages(imgArray,scale):\n",
    "    rows = len(imgArray)\n",
    "    cols = len(imgArray[0])\n",
    "    rowsAvailable = isinstance(imgArray[0], list)\n",
    "    width = imgArray[0][0].shape[1]\n",
    "    height = imgArray[0][0].shape[0]\n",
    "    if rowsAvailable:\n",
    "        for x in range ( 0, rows):\n",
    "            for y in range(0, cols):\n",
    "                imgArray[x][y] = cv2.resize(imgArray[x][y], (0, 0), None, scale, scale)\n",
    "                if len(imgArray[x][y].shape) == 2: imgArray[x][y]= cv2.cvtColor( imgArray[x][y], cv2.COLOR_GRAY2BGR)\n",
    "        imageBlank = np.zeros((height, width, 3), np.uint8)\n",
    "        hor = [imageBlank]*rows\n",
    "        hor_con = [imageBlank]*rows\n",
    "        for x in range(0, rows):\n",
    "            hor[x] = np.hstack(imgArray[x])\n",
    "            hor_con[x] = np.concatenate(imgArray[x])\n",
    "        ver = np.vstack(hor)\n",
    "        ver_con = np.concatenate(hor)\n",
    "    else:\n",
    "        for x in range(0, rows):\n",
    "            imgArray[x] = cv2.resize(imgArray[x], (0, 0), None, scale, scale)\n",
    "            if len(imgArray[x].shape) == 2: imgArray[x] = cv2.cvtColor(imgArray[x], cv2.COLOR_GRAY2BGR)\n",
    "        hor= np.hstack(imgArray)\n",
    "        hor_con= np.concatenate(imgArray)\n",
    "        ver = hor\n",
    "    return ver"
   ]
  },
  {
   "cell_type": "code",
   "execution_count": null,
   "id": "79cbb80f",
   "metadata": {},
   "outputs": [],
   "source": []
  }
 ],
 "metadata": {
  "kernelspec": {
   "display_name": "Python 3",
   "language": "python",
   "name": "python3"
  },
  "language_info": {
   "codemirror_mode": {
    "name": "ipython",
    "version": 3
   },
   "file_extension": ".py",
   "mimetype": "text/x-python",
   "name": "python",
   "nbconvert_exporter": "python",
   "pygments_lexer": "ipython3",
   "version": "3.8.8"
  }
 },
 "nbformat": 4,
 "nbformat_minor": 5
}
